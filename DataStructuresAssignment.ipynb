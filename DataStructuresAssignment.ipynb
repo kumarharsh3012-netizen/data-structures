{
 "cells": [
  {
   "cell_type": "code",
   "execution_count": 3,
   "id": "97cdfc8e-7147-41aa-87ab-57e45fff2c56",
   "metadata": {},
   "outputs": [
    {
     "name": "stdin",
     "output_type": "stream",
     "text": [
      "Enter the number of years:  3\n",
      "Enter year:  2013\n",
      "Enter year:  2015\n",
      "Enter year:  2017\n",
      "Enter number of cities:  3\n",
      "Enter city:  delhi\n",
      "Enter city:  mumbai\n",
      "Enter city:  chennai\n"
     ]
    },
    {
     "name": "stdout",
     "output_type": "stream",
     "text": [
      "1. Insert\n",
      "2. Retrieve\n",
      "3. Delete\n",
      "4. Row-Major Access\n",
      "5. Column-Major Access\n",
      "6. Exit\n"
     ]
    },
    {
     "name": "stdin",
     "output_type": "stream",
     "text": [
      "Enter choice:  1\n"
     ]
    },
    {
     "name": "stdout",
     "output_type": "stream",
     "text": [
      "Years:\n",
      "0 : 2013\n",
      "1 : 2015\n",
      "2 : 2017\n"
     ]
    },
    {
     "name": "stdin",
     "output_type": "stream",
     "text": [
      "Enter index of year:  0\n"
     ]
    },
    {
     "name": "stdout",
     "output_type": "stream",
     "text": [
      "Cities:\n",
      "0 : delhi\n",
      "1 : mumbai\n",
      "2 : chennai\n"
     ]
    },
    {
     "name": "stdin",
     "output_type": "stream",
     "text": [
      "Enter index of city:  0\n",
      "Enter temperature:  34\n"
     ]
    },
    {
     "name": "stdout",
     "output_type": "stream",
     "text": [
      "Inserted successfully.\n",
      "1. Insert\n",
      "2. Retrieve\n",
      "3. Delete\n",
      "4. Row-Major Access\n",
      "5. Column-Major Access\n",
      "6. Exit\n"
     ]
    },
    {
     "name": "stdin",
     "output_type": "stream",
     "text": [
      "Enter choice:  2\n"
     ]
    },
    {
     "name": "stdout",
     "output_type": "stream",
     "text": [
      "Years:\n",
      "0 : 2013\n",
      "1 : 2015\n",
      "2 : 2017\n"
     ]
    },
    {
     "name": "stdin",
     "output_type": "stream",
     "text": [
      "Enter index of year:  0\n"
     ]
    },
    {
     "name": "stdout",
     "output_type": "stream",
     "text": [
      "Cities:\n",
      "0 : delhi\n",
      "1 : mumbai\n",
      "2 : chennai\n"
     ]
    },
    {
     "name": "stdin",
     "output_type": "stream",
     "text": [
      "Enter index of city:  0\n"
     ]
    },
    {
     "name": "stdout",
     "output_type": "stream",
     "text": [
      "Temperature for delhi in 2013 : 34.0\n",
      "1. Insert\n",
      "2. Retrieve\n",
      "3. Delete\n",
      "4. Row-Major Access\n",
      "5. Column-Major Access\n",
      "6. Exit\n"
     ]
    },
    {
     "name": "stdin",
     "output_type": "stream",
     "text": [
      "Enter choice:  3\n"
     ]
    },
    {
     "name": "stdout",
     "output_type": "stream",
     "text": [
      "Years:\n",
      "0 : 2013\n",
      "1 : 2015\n",
      "2 : 2017\n"
     ]
    },
    {
     "name": "stdin",
     "output_type": "stream",
     "text": [
      "Enter index of year:  0\n"
     ]
    },
    {
     "name": "stdout",
     "output_type": "stream",
     "text": [
      "Cities:\n",
      "0 : delhi\n",
      "1 : mumbai\n",
      "2 : chennai\n"
     ]
    },
    {
     "name": "stdin",
     "output_type": "stream",
     "text": [
      "Enter index of city:  0\n"
     ]
    },
    {
     "name": "stdout",
     "output_type": "stream",
     "text": [
      "Deleted successfully.\n",
      "1. Insert\n",
      "2. Retrieve\n",
      "3. Delete\n",
      "4. Row-Major Access\n",
      "5. Column-Major Access\n",
      "6. Exit\n"
     ]
    },
    {
     "name": "stdin",
     "output_type": "stream",
     "text": [
      "Enter choice:  2\n"
     ]
    },
    {
     "name": "stdout",
     "output_type": "stream",
     "text": [
      "Years:\n",
      "0 : 2013\n",
      "1 : 2015\n",
      "2 : 2017\n"
     ]
    },
    {
     "name": "stdin",
     "output_type": "stream",
     "text": [
      "Enter index of year:  0\n"
     ]
    },
    {
     "name": "stdout",
     "output_type": "stream",
     "text": [
      "Cities:\n",
      "0 : delhi\n",
      "1 : mumbai\n",
      "2 : chennai\n"
     ]
    },
    {
     "name": "stdin",
     "output_type": "stream",
     "text": [
      "Enter index of city:  0\n"
     ]
    },
    {
     "name": "stdout",
     "output_type": "stream",
     "text": [
      "No temperature stored.\n",
      "1. Insert\n",
      "2. Retrieve\n",
      "3. Delete\n",
      "4. Row-Major Access\n",
      "5. Column-Major Access\n",
      "6. Exit\n"
     ]
    },
    {
     "name": "stdin",
     "output_type": "stream",
     "text": [
      "Enter choice:  6\n"
     ]
    },
    {
     "name": "stdout",
     "output_type": "stream",
     "text": [
      "Exited Successfully\n"
     ]
    }
   ],
   "source": [
    "\n",
    "n = int(input(\"Enter the number of years: \"))\n",
    "years = []\n",
    "for i in range(n):\n",
    "    y = int(input(\"Enter year: \"))\n",
    "    years.append(y)\n",
    "\n",
    "m = int(input(\"Enter number of cities: \"))\n",
    "cities = []\n",
    "for j in range(m):\n",
    "    c = input(\"Enter city: \")\n",
    "    cities.append(c)\n",
    "\n",
    "data = [[None for _ in range(m)] for _ in range(n)]\n",
    "\n",
    "\n",
    "def insert():\n",
    "    print(\"Years:\")\n",
    "    for i in range(len(years)):\n",
    "        print(i, \":\", years[i])\n",
    "    row = int(input(\"Enter index of year: \"))\n",
    "\n",
    "    print(\"Cities:\")\n",
    "    for j in range(len(cities)):\n",
    "        print(j, \":\", cities[j])\n",
    "    col = int(input(\"Enter index of city: \"))\n",
    "\n",
    "    if 0 <= row < n and 0 <= col < m:\n",
    "        t = float(input(\"Enter temperature: \"))\n",
    "        data[row][col] = t\n",
    "        print(\"Inserted successfully.\")\n",
    "    else:\n",
    "        print(\"Invalid index.\")\n",
    "\n",
    "\n",
    "def retrieve():\n",
    "    print(\"Years:\")\n",
    "    for i in range(len(years)):\n",
    "        print(i, \":\", years[i])\n",
    "    row = int(input(\"Enter index of year: \"))\n",
    "\n",
    "    print(\"Cities:\")\n",
    "    for j in range(len(cities)):\n",
    "        print(j, \":\", cities[j])\n",
    "    col = int(input(\"Enter index of city: \"))\n",
    "\n",
    "    if 0 <= row < n and 0 <= col < m:\n",
    "        if data[row][col] is not None:\n",
    "            print(\"Temperature for\", cities[col], \"in\", years[row], \":\", data[row][col])\n",
    "        else:\n",
    "            print(\"No temperature stored.\")\n",
    "    else:\n",
    "        print(\"Invalid index.\")\n",
    "\n",
    "\n",
    "def delete():\n",
    "    print(\"Years:\")\n",
    "    for i in range(len(years)):\n",
    "        print(i, \":\", years[i])\n",
    "    row = int(input(\"Enter index of year: \"))\n",
    "\n",
    "    print(\"Cities:\")\n",
    "    for j in range(len(cities)):\n",
    "        print(j, \":\", cities[j])\n",
    "    col = int(input(\"Enter index of city: \"))\n",
    "\n",
    "    if 0 <= row < n and 0 <= col < m:\n",
    "        if data[row][col] is not None:\n",
    "            data[row][col] = None\n",
    "            print(\"Deleted successfully.\")\n",
    "        else:\n",
    "            print(\"Nothing to delete.\")\n",
    "    else:\n",
    "        print(\"Invalid index.\")\n",
    "\n",
    "\n",
    "def rowmajor():\n",
    "    print(\"Row-Major Access (row by row):\")\n",
    "    for row in data:\n",
    "        print(row)\n",
    "\n",
    "\n",
    "def columnmajor():\n",
    "    print(\"Column-Major Access (column by column):\")\n",
    "    for c in range(len(cities)):\n",
    "        column = [data[r][c] for r in range(len(years))]\n",
    "        print(column)\n",
    "\n",
    "\n",
    "\n",
    "while True:\n",
    "    print(\"1. Insert\")\n",
    "    print(\"2. Retrieve\")\n",
    "    print(\"3. Delete\")\n",
    "    print(\"4. Row-Major Access\")\n",
    "    print(\"5. Column-Major Access\")\n",
    "    print(\"6. Exit\")\n",
    "    choice = input(\"Enter choice: \")\n",
    "\n",
    "    if choice == \"1\":\n",
    "        insert()\n",
    "    elif choice == \"2\":\n",
    "        retrieve()\n",
    "    elif choice == \"3\":\n",
    "        delete()\n",
    "    elif choice == \"4\":\n",
    "        rowmajor()\n",
    "    elif choice == \"5\":\n",
    "        columnmajor()\n",
    "    elif choice == \"6\":\n",
    "        print(\"Exited Successfully\")\n",
    "        break\n",
    "    else:\n",
    "        print(\"Invalid choice.\")\n"
   ]
  },
  {
   "cell_type": "code",
   "execution_count": null,
   "id": "f0039dc3-4246-4170-b003-9f14ee2f4319",
   "metadata": {},
   "outputs": [],
   "source": []
  }
 ],
 "metadata": {
  "kernelspec": {
   "display_name": "Python 3 (ipykernel)",
   "language": "python",
   "name": "python3"
  },
  "language_info": {
   "codemirror_mode": {
    "name": "ipython",
    "version": 3
   },
   "file_extension": ".py",
   "mimetype": "text/x-python",
   "name": "python",
   "nbconvert_exporter": "python",
   "pygments_lexer": "ipython3",
   "version": "3.12.4"
  }
 },
 "nbformat": 4,
 "nbformat_minor": 5
}
