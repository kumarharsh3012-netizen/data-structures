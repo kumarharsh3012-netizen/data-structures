{
 "cells": [
  {
   "cell_type": "code",
   "execution_count": null,
   "id": "24742195-36a9-4860-b948-2b58e14432b6",
   "metadata": {},
   "outputs": [
    {
     "name": "stdout",
     "output_type": "stream",
     "text": [
      "\n",
      "Inventory Stock Manager\n",
      "1. Insert New Product\n",
      "2. Display Inventory\n",
      "3. Exit\n"
     ]
    },
    {
     "name": "stdin",
     "output_type": "stream",
     "text": [
      "Enter your choice (1-3):  1\n",
      "How many products do you want to add?  2\n"
     ]
    },
    {
     "name": "stdout",
     "output_type": "stream",
     "text": [
      "\n",
      "--- Product 1 ---\n"
     ]
    },
    {
     "name": "stdin",
     "output_type": "stream",
     "text": [
      "Enter SKU:  pk02\n"
     ]
    },
    {
     "name": "stdout",
     "output_type": "stream",
     "text": [
      "\n",
      "--- Product 2 ---\n"
     ]
    },
    {
     "name": "stdin",
     "output_type": "stream",
     "text": [
      "Enter SKU:  pk87\n"
     ]
    },
    {
     "name": "stdout",
     "output_type": "stream",
     "text": [
      "\n",
      "Inventory Stock Manager\n",
      "1. Insert New Product\n",
      "2. Display Inventory\n",
      "3. Exit\n"
     ]
    }
   ],
   "source": [
    "# Inventory list to store product records \n",
    "inventory = [] \n",
    " \n",
    "# Function to insert a new product \n",
    "def insert_product():\n",
    "    try:\n",
    "        count = int(input(\"How many products do you want to add? \"))\n",
    "    except ValueError:\n",
    "        print(\"Invalid input. Please enter a number.\")\n",
    "        return\n",
    "    \n",
    "    for i in range(count):\n",
    "        print(f\"\\n--- Product {i+1} ---\")\n",
    "        sku = input(\"Enter SKU: \")\n",
    "\n",
    "        # Check for duplicate SKU\n",
    "        duplicate = False\n",
    "        for item in inventory:\n",
    "            if item['sku'] == sku:\n",
    "                print(\"Product with this SKU already exists! Skipping...\")\n",
    "                name = input(\"Enter Product Name: \")\n",
    "             \n",
    "            try: \n",
    "                quantity = int(input(\"Enter Quantity: \")) \n",
    "            except ValueError: \n",
    "                print(\"Invalid input. Quantity must be a number.\") \n",
    "                return \n",
    "             \n",
    "            # Create product dictionary and add to inventory \n",
    "            product = {'sku': sku, 'name': name, 'quantity': quantity} \n",
    "            inventory.append(product) \n",
    "            print(\"Product inserted successfully.\") \n",
    "         \n",
    "# Function to display inventory \n",
    "def display_inventory(): \n",
    "    if not inventory: \n",
    "        print(\"Inventory is empty.\") \n",
    "        return \n",
    " \n",
    "    print(\"\\nCurrent Inventory:\") \n",
    "    print(\"SKU\\t\\tProduct Name\\t\\tQuantity\") \n",
    "    print(\"-----------------------------------------------\") \n",
    "    for item in inventory: \n",
    "        print(f\"{item['sku']}\\t\\t{item['name']}\\t\\t{item['quantity']}\") \n",
    "    print() \n",
    " \n",
    "# Main program loop \n",
    "def main(): \n",
    "    while True: \n",
    "        print(\"\\nInventory Stock Manager\") \n",
    "        print(\"1. Insert New Product\") \n",
    "        print(\"2. Display Inventory\") \n",
    "        print(\"3. Exit\") \n",
    " \n",
    "        choice = input(\"Enter your choice (1-3): \") \n",
    " \n",
    "        if choice == '1': \n",
    "            insert_product() \n",
    "        elif choice == '2': \n",
    "            display_inventory() \n",
    "        elif choice == '3': \n",
    "            print(\"Exiting Inventory Manager.\") \n",
    "            break \n",
    "        else: \n",
    "            print(\"Invalid choice. Please select from 1 to 3.\")\n",
    "main() "
   ]
  },
  {
   "cell_type": "code",
   "execution_count": null,
   "id": "16862e76-f565-434a-9c71-8d03a3a3ec76",
   "metadata": {},
   "outputs": [],
   "source": []
  },
  {
   "cell_type": "code",
   "execution_count": null,
   "id": "b6af8a50-4e79-407c-9c26-c1e8648629f6",
   "metadata": {},
   "outputs": [],
   "source": []
  },
  {
   "cell_type": "code",
   "execution_count": null,
   "id": "0225bef4-1326-4c6e-af59-356d118219bf",
   "metadata": {},
   "outputs": [],
   "source": []
  },
  {
   "cell_type": "code",
   "execution_count": null,
   "id": "397ad7ce-26b5-494d-b321-2c8123488693",
   "metadata": {},
   "outputs": [],
   "source": []
  }
 ],
 "metadata": {
  "kernelspec": {
   "display_name": "Python 3 (ipykernel)",
   "language": "python",
   "name": "python3"
  },
  "language_info": {
   "codemirror_mode": {
    "name": "ipython",
    "version": 3
   },
   "file_extension": ".py",
   "mimetype": "text/x-python",
   "name": "python",
   "nbconvert_exporter": "python",
   "pygments_lexer": "ipython3",
   "version": "3.12.4"
  }
 },
 "nbformat": 4,
 "nbformat_minor": 5
}
